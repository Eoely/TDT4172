{
 "cells": [
  {
   "cell_type": "markdown",
   "id": "7b09f97e",
   "metadata": {},
   "source": [
    "## ⚡ Final Mission: Mapping SkyNet's Energy Nexus\n",
    "\n",
    "### 🌐 The Discovery\n",
    "SkyNet is harvesting energy from Trondheim's buildings. Some structures provide significantly more power than others.\n",
    "\n",
    "### 🎯 Your Mission\n",
    "Predict the **Nexus Rating** of unknown buildings in Trondheim (test set).\n",
    "\n",
    "### 🧠 The Challenge\n",
    "1. **Target**: Transform the Nexus Rating to reveal true energy hierarchy\n",
    "2. **Data Quality**: Handle missing values and categorical features\n",
    "3. **Ensembling**: Use advanced models and ensemble learning\n",
    "\n",
    "### 💡 Hint\n",
    "You suspect that an insider has tampered with the columns in the testing data... \n",
    "\n",
    "Compare the training and test distributions and try to rectify the test dataset.\n",
    "\n",
    "### 📊 Formal Requirements\n",
    "1. **Performance**: Achieve RMSLE <= 0.294 on the test set\n",
    "2. **Discussion**:\n",
    "\n",
    "   a. Explain your threshold-breaking strategy\n",
    "\n",
    "   b. Justify RMSLE usage. Why do we use this metric? Which loss function did you use?\n",
    "\n",
    "   c. Plot and interpret feature importances\n",
    "\n",
    "   d. Describe your ensembling techniques\n",
    "\n",
    "   e. In real life, you do not have the test targets. How would you make sure your model will work good on the unseen data? \n",
    "\n",
    "---"
   ]
  },
  {
   "cell_type": "code",
   "execution_count": 56,
   "id": "d3efa9b5",
   "metadata": {},
   "outputs": [],
   "source": [
    "import pandas as pd\n",
    "import numpy as np\n",
    "import matplotlib.pyplot as plt\n",
    "\n",
    "train = pd.read_csv('final_mission_train.csv')\n",
    "test = pd.read_csv('final_mission_test.csv')"
   ]
  },
  {
   "cell_type": "code",
   "execution_count": 57,
   "id": "ec1554b5",
   "metadata": {},
   "outputs": [],
   "source": [
    "from sklearn.metrics import mean_squared_log_error\n",
    "\n",
    "def rmsle(y_true, y_pred):\n",
    "    \"\"\" Root Mean Squared Logarithmic Error \"\"\"\n",
    "    return np.sqrt(mean_squared_log_error(y_true, y_pred))"
   ]
  },
  {
   "cell_type": "code",
   "execution_count": 58,
   "id": "0b20dc06",
   "metadata": {},
   "outputs": [],
   "source": [
    "# Shfit all colummns in the test set right by 1, except ownership type\n",
    "original_grid = test['grid_connections'].copy()\n",
    "copy = test.copy()\n",
    "test.iloc[:, 1:] = copy.iloc[:, 1:].shift(1, axis=1)\n",
    "test['nexus_rating'] = original_grid"
   ]
  },
  {
   "cell_type": "code",
   "execution_count": 59,
   "id": "ef49bd54",
   "metadata": {},
   "outputs": [],
   "source": [
    "from sklearn.ensemble import RandomForestRegressor\n",
    "\n",
    "grid_search_rf = RandomForestRegressor(min_samples_leaf=10)\n",
    "\n",
    "x_train = train.drop(columns=[\"nexus_rating\"]).copy()\n",
    "y_train = train['nexus_rating']\n",
    "\n",
    "x_test = test.drop(columns=[\"nexus_rating\"]).copy()\n",
    "\n",
    "grid_search_rf.fit(x_train, y_train)\n",
    "y_pred = grid_search_rf.predict(x_test)"
   ]
  },
  {
   "cell_type": "code",
   "execution_count": 60,
   "id": "769f8a3d",
   "metadata": {},
   "outputs": [
    {
     "name": "stdout",
     "output_type": "stream",
     "text": [
      "Required RMSLE:  0.294\n",
      "RMSLE:  0.3174837630644456\n"
     ]
    }
   ],
   "source": [
    "# Convert back the nexus_rating for a fair comparison\n",
    "\n",
    "print('Required RMSLE: ', 0.294)\n",
    "print('RMSLE: ', rmsle(test['nexus_rating'], y_pred))"
   ]
  }
 ],
 "metadata": {
  "kernelspec": {
   "display_name": "tdt4172",
   "language": "python",
   "name": "python3"
  },
  "language_info": {
   "codemirror_mode": {
    "name": "ipython",
    "version": 3
   },
   "file_extension": ".py",
   "mimetype": "text/x-python",
   "name": "python",
   "nbconvert_exporter": "python",
   "pygments_lexer": "ipython3",
   "version": "3.13.6"
  }
 },
 "nbformat": 4,
 "nbformat_minor": 5
}
