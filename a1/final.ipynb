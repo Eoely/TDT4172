{
 "cells": [
  {
   "cell_type": "markdown",
   "id": "7b09f97e",
   "metadata": {},
   "source": [
    "## ⚡ Final Mission: Mapping SkyNet's Energy Nexus\n",
    "\n",
    "### 🌐 The Discovery\n",
    "SkyNet is harvesting energy from Trondheim's buildings. Some structures provide significantly more power than others.\n",
    "\n",
    "### 🎯 Your Mission\n",
    "Predict the **Nexus Rating** of unknown buildings in Trondheim (test set).\n",
    "\n",
    "### 🧠 The Challenge\n",
    "1. **Target**: Transform the Nexus Rating to reveal true energy hierarchy\n",
    "2. **Data Quality**: Handle missing values and categorical features\n",
    "3. **Ensembling**: Use advanced models and ensemble learning\n",
    "\n",
    "### 💡 Hint\n",
    "You suspect that an insider has tampered with the columns in the testing data... \n",
    "\n",
    "Compare the training and test distributions and try to rectify the test dataset.\n",
    "\n",
    "### 📊 Formal Requirements\n",
    "1. **Performance**: Achieve RMSLE <= 0.294 on the test set\n",
    "2. **Discussion**:\n",
    "\n",
    "   a. Explain your threshold-breaking strategy\n",
    "\n",
    "   b. Justify RMSLE usage. Why do we use this metric? Which loss function did you use?\n",
    "\n",
    "   c. Plot and interpret feature importances\n",
    "\n",
    "   d. Describe your ensembling techniques\n",
    "\n",
    "   e. In real life, you do not have the test targets. How would you make sure your model will work good on the unseen data? \n",
    "\n",
    "---"
   ]
  },
  {
   "cell_type": "code",
   "execution_count": 259,
   "id": "d3efa9b5",
   "metadata": {},
   "outputs": [],
   "source": [
    "import pandas as pd\n",
    "import numpy as np\n",
    "\n",
    "train = pd.read_csv('final_mission_train.csv')\n",
    "test = pd.read_csv('final_mission_test.csv')"
   ]
  },
  {
   "cell_type": "code",
   "execution_count": 260,
   "id": "ec1554b5",
   "metadata": {},
   "outputs": [],
   "source": [
    "from sklearn.metrics import mean_squared_log_error\n",
    "\n",
    "def rmsle(y_true, y_pred):\n",
    "    \"\"\" Root Mean Squared Logarithmic Error \"\"\"\n",
    "    return np.sqrt(mean_squared_log_error(y_true, y_pred))"
   ]
  },
  {
   "cell_type": "code",
   "execution_count": 261,
   "id": "0b20dc06",
   "metadata": {},
   "outputs": [],
   "source": [
    "# Shfit all colummns in the test set right by 1, except ownership type\n",
    "original_grid = test['grid_connections'].copy()\n",
    "copy = test.copy()\n",
    "test.iloc[:, 1:] = copy.iloc[:, 1:].shift(1, axis=1)\n",
    "test['nexus_rating'] = original_grid"
   ]
  },
  {
   "cell_type": "code",
   "execution_count": 267,
   "id": "a7875458",
   "metadata": {},
   "outputs": [
    {
     "name": "stdout",
     "output_type": "stream",
     "text": [
      "['ownership_type', 'power_chambers', 'energy_flow_design', 'shared_conversion_units', 'isolated_conversion_units', 'internal_collectors', 'external_collectors', 'ambient_harvesters', 'shielded_harvesters', 'efficiency_grade', 'grid_connections']\n",
      "['nexus_rating', 'energy_footprint', 'core_reactor_size', 'harvesting_space', 'vertical_alignment', 'upper_collector_height']\n"
     ]
    }
   ],
   "source": [
    "from sklearn.impute import SimpleImputer\n",
    "# Data preprocessing\n",
    "categorical = ['ownership_type']\n",
    "encode_cols = ['ownership_type']\n",
    "numeric_imputer = SimpleImputer(strategy=\"median\")  # or mean\n",
    "\n",
    "\n",
    "continous = test.nunique()[test.nunique() > 10].index.tolist()\n",
    "categorical = test.nunique()[test.nunique() <= 10].index.tolist() # Should really use set theory\n",
    "print(categorical)\n",
    "print(continous)\n",
    "\n",
    "\n",
    "## Do fill strategy for continous\n",
    "test[continous] = test[continous].fillna(test[continous].mean())\n",
    "train[continous] = train[continous].fillna(train[continous].mean())\n",
    "\n",
    "\n",
    "\n",
    "# do fill strategy for categorical\n",
    "\n",
    "\n",
    "## One hot encode categorical values\n"
   ]
  },
  {
   "cell_type": "code",
   "execution_count": 263,
   "id": "ef49bd54",
   "metadata": {},
   "outputs": [],
   "source": [
    "from sklearn.ensemble import RandomForestRegressor\n",
    "\n",
    "rf = RandomForestRegressor(min_samples_leaf=10)\n",
    "\n",
    "x_train = train.drop(columns=[\"nexus_rating\"]).copy()\n",
    "y_train = train['nexus_rating']\n",
    "\n",
    "x_test = test.drop(columns=[\"nexus_rating\"]).copy()\n",
    "\n",
    "rf.fit(x_train, y_train)\n",
    "y_pred = rf.predict(x_test)"
   ]
  },
  {
   "cell_type": "code",
   "execution_count": 264,
   "id": "769f8a3d",
   "metadata": {},
   "outputs": [
    {
     "name": "stdout",
     "output_type": "stream",
     "text": [
      "Required RMSLE:  0.294\n",
      "RMSLE:  0.3426635263095595\n"
     ]
    }
   ],
   "source": [
    "# Convert back the nexus_rating for a fair comparison\n",
    "\n",
    "print('Required RMSLE: ', 0.294)\n",
    "print('RMSLE: ', rmsle(test['nexus_rating'], y_pred))"
   ]
  }
 ],
 "metadata": {
  "kernelspec": {
   "display_name": "tdt4172",
   "language": "python",
   "name": "python3"
  },
  "language_info": {
   "codemirror_mode": {
    "name": "ipython",
    "version": 3
   },
   "file_extension": ".py",
   "mimetype": "text/x-python",
   "name": "python",
   "nbconvert_exporter": "python",
   "pygments_lexer": "ipython3",
   "version": "3.13.6"
  }
 },
 "nbformat": 4,
 "nbformat_minor": 5
}
